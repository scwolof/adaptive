{
 "cells": [
  {
   "cell_type": "code",
   "execution_count": 1,
   "id": "removed-hello",
   "metadata": {},
   "outputs": [],
   "source": [
    "from adaptive.client.user_client import UserClient\n",
    "from adaptive.simul.users import User"
   ]
  },
  {
   "cell_type": "code",
   "execution_count": 2,
   "id": "pursuant-lending",
   "metadata": {},
   "outputs": [],
   "source": [
    "user = User()\n",
    "userclient = UserClient(user=user)"
   ]
  },
  {
   "cell_type": "code",
   "execution_count": 3,
   "id": "passing-animation",
   "metadata": {},
   "outputs": [
    {
     "data": {
      "text/plain": [
       "True"
      ]
     },
     "execution_count": 3,
     "metadata": {},
     "output_type": "execute_result"
    }
   ],
   "source": [
    "userclient.create_account()"
   ]
  },
  {
   "cell_type": "code",
   "execution_count": null,
   "id": "collect-blind",
   "metadata": {},
   "outputs": [],
   "source": []
  }
 ],
 "metadata": {
  "kernelspec": {
   "display_name": "Python 3",
   "language": "python",
   "name": "python3"
  },
  "language_info": {
   "codemirror_mode": {
    "name": "ipython",
    "version": 3
   },
   "file_extension": ".py",
   "mimetype": "text/x-python",
   "name": "python",
   "nbconvert_exporter": "python",
   "pygments_lexer": "ipython3",
   "version": "3.6.9"
  }
 },
 "nbformat": 4,
 "nbformat_minor": 5
}
