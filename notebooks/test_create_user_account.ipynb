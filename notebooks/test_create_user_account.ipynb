{
 "cells": [
  {
   "cell_type": "code",
   "execution_count": 4,
   "id": "damaged-amino",
   "metadata": {},
   "outputs": [],
   "source": [
    "from adaptive.client.user_client import UserClient\n",
    "from adaptive.simul.users import User"
   ]
  },
  {
   "cell_type": "code",
   "execution_count": 5,
   "id": "ultimate-livestock",
   "metadata": {},
   "outputs": [],
   "source": [
    "user = User()\n",
    "userclient = UserClient(user=user)"
   ]
  },
  {
   "cell_type": "code",
   "execution_count": 6,
   "id": "saving-surprise",
   "metadata": {},
   "outputs": [
    {
     "name": "stderr",
     "output_type": "stream",
     "text": [
      "Could not connect to any of [('127.0.0.1', 9090)]\n"
     ]
    },
    {
     "name": "stdout",
     "output_type": "stream",
     "text": [
      "Error starting client\n"
     ]
    },
    {
     "data": {
      "text/plain": [
       "False"
      ]
     },
     "execution_count": 6,
     "metadata": {},
     "output_type": "execute_result"
    }
   ],
   "source": [
    "userclient.create_account()"
   ]
  },
  {
   "cell_type": "code",
   "execution_count": null,
   "id": "accurate-mattress",
   "metadata": {},
   "outputs": [],
   "source": []
  }
 ],
 "metadata": {
  "kernelspec": {
   "display_name": "Python 3",
   "language": "python",
   "name": "python3"
  },
  "language_info": {
   "codemirror_mode": {
    "name": "ipython",
    "version": 3
   },
   "file_extension": ".py",
   "mimetype": "text/x-python",
   "name": "python",
   "nbconvert_exporter": "python",
   "pygments_lexer": "ipython3",
   "version": "3.6.9"
  }
 },
 "nbformat": 4,
 "nbformat_minor": 5
}
